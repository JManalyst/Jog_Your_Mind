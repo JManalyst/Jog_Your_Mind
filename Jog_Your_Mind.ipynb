{
 "cells": [
  {
   "cell_type": "code",
   "execution_count": 4,
   "metadata": {},
   "outputs": [
    {
     "name": "stdout",
     "output_type": "stream",
     "text": [
      "108\n"
     ]
    }
   ],
   "source": [
    "#Write a function that takes in a subtotal & tax rate and returns the total amount\n",
    "#test your function using subtotal value of 100 and a tax rate of 0.08 to get a total of 108\n",
    "\n",
    "def get_tax_rate(subtotal, tax_rate):\n",
    "    \n",
    "    return round((tax_rate + 1) * subtotal)\n",
    "\n",
    "#Test the result\n",
    "print(get_tax_rate(subtotal = 100, tax_rate = 0.08))\n"
   ]
  },
  {
   "cell_type": "code",
   "execution_count": 8,
   "metadata": {},
   "outputs": [
    {
     "data": {
      "text/plain": [
       "[1, 2, 3, 4, 5]"
      ]
     },
     "execution_count": 8,
     "metadata": {},
     "output_type": "execute_result"
    }
   ],
   "source": [
    "#write a function callled middle that returns a list that contains all but the first and last element\n",
    "\n",
    "def middle(mylist):\n",
    "    return mylist[1:-1]\n",
    "\n",
    "# test the code\n",
    "mylist = [0,1,2,3,4,5,6]\n",
    "middle(mylist=mylist)"
   ]
  }
 ],
 "metadata": {
  "kernelspec": {
   "display_name": "Python 3.9.7 ('base')",
   "language": "python",
   "name": "python3"
  },
  "language_info": {
   "codemirror_mode": {
    "name": "ipython",
    "version": 3
   },
   "file_extension": ".py",
   "mimetype": "text/x-python",
   "name": "python",
   "nbconvert_exporter": "python",
   "pygments_lexer": "ipython3",
   "version": "3.9.7 (default, Sep 16 2021, 16:59:28) [MSC v.1916 64 bit (AMD64)]"
  },
  "orig_nbformat": 4,
  "vscode": {
   "interpreter": {
    "hash": "7a4207280acc1d704d1921770e8d2f8a0b4ad0f7d0dfea86f77d81a3da8ddd6d"
   }
  }
 },
 "nbformat": 4,
 "nbformat_minor": 2
}
