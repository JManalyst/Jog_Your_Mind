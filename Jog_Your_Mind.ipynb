{
 "cells": [
  {
   "attachments": {},
   "cell_type": "markdown",
   "metadata": {},
   "source": [
    "Write a function that takes in a subtotal & tax rate and returns the total amount\n",
    "test your function using subtotal value of 100 and a tax rate of 0.08 to get a total of 108"
   ]
  },
  {
   "cell_type": "code",
   "execution_count": 4,
   "metadata": {},
   "outputs": [
    {
     "name": "stdout",
     "output_type": "stream",
     "text": [
      "108\n"
     ]
    }
   ],
   "source": [
    "\n",
    "\n",
    "def get_tax_rate(subtotal, tax_rate):\n",
    "    \n",
    "    return round((tax_rate + 1) * subtotal)\n",
    "\n",
    "#Test the result\n",
    "print(get_tax_rate(subtotal = 100, tax_rate = 0.08))\n"
   ]
  },
  {
   "attachments": {},
   "cell_type": "markdown",
   "metadata": {},
   "source": [
    "write a function callled middle that returns a list that contains all but the first and last element"
   ]
  },
  {
   "cell_type": "code",
   "execution_count": null,
   "metadata": {},
   "outputs": [
    {
     "data": {
      "text/plain": [
       "[1, 2, 3, 4, 5]"
      ]
     },
     "execution_count": 8,
     "metadata": {},
     "output_type": "execute_result"
    }
   ],
   "source": [
    "\n",
    "\n",
    "def middle(mylist):\n",
    "    return mylist[1:-1]\n",
    "\n",
    "# test the code\n",
    "mylist = [0,1,2,3,4,5,6]\n",
    "middle(mylist=mylist)"
   ]
  },
  {
   "attachments": {},
   "cell_type": "markdown",
   "metadata": {},
   "source": [
    "write a function called find_max that returns the largest numer from a given list of numbers"
   ]
  },
  {
   "cell_type": "code",
   "execution_count": 1,
   "metadata": {},
   "outputs": [
    {
     "data": {
      "text/plain": [
       "107"
      ]
     },
     "execution_count": 1,
     "metadata": {},
     "output_type": "execute_result"
    }
   ],
   "source": [
    "\n",
    "\n",
    "def find_max(mylist):\n",
    "    largest = mylist[1]\n",
    "    for i in mylist:\n",
    "        if i > largest:\n",
    "            largest = i\n",
    "    return largest\n",
    "\n",
    "#test the function\n",
    "mylist = [1,4,15,19,3,107,84,99]\n",
    "find_max(mylist)"
   ]
  },
  {
   "attachments": {},
   "cell_type": "markdown",
   "metadata": {},
   "source": [
    "You are given an array prices  where prices [i] is the prices of a given stock on the ith day. \n",
    "You want to maximize your profit by choosing a single day to buy one stock and choosing a different day to sell that stock. Return the maximum profit you can achieve from this transaction. if you can not achieve any profit, return zero. \n",
    "\n",
    "Note that buying on day 2 and selling on day 1 is not allowed because you must buy before you sell."
   ]
  },
  {
   "cell_type": "code",
   "execution_count": 2,
   "metadata": {},
   "outputs": [
    {
     "data": {
      "text/plain": [
       "'Start day: 1, End day: 4, Profit: 5'"
      ]
     },
     "execution_count": 2,
     "metadata": {},
     "output_type": "execute_result"
    }
   ],
   "source": [
    "def cal_max_profit(prices):\n",
    "    diff = 0\n",
    "    start = None\n",
    "    end =None\n",
    "    for i in range(0,len(prices)):\n",
    "        for j in range(i+1, len(prices)):\n",
    "            if prices[j] - prices[i] > diff:\n",
    "                diff = prices[j] - prices[i]\n",
    "                start = i\n",
    "                end = j\n",
    "            elif prices[j] - prices[i] <= diff:\n",
    "                    diff = diff\n",
    "                    start = start\n",
    "                    end = end\n",
    "            else: \n",
    "                diff = 0\n",
    "                start = \"None\"\n",
    "                end = \"None\"\n",
    "    return f\"Start day: {start}, End day: {end}, Profit: {round(diff,2)}\"\n",
    "\n",
    "prices = [7, 1, 5, 3, 6, 4]\n",
    "cal_max_profit(prices)"
   ]
  },
  {
   "attachments": {},
   "cell_type": "markdown",
   "metadata": {},
   "source": [
    "Maximum Sum Sub Array. \n",
    "\n",
    "A subarray is a contigous part of an array\n",
    "\n",
    "Given an integer array nums, find the contiguous subarray (containing at least one number) which has the largest sum.\n",
    "\n",
    "Examples\n",
    "\n",
    "input: [-2,1,-3,4,-1,2,1,-5,4]\n",
    "\n",
    "Output: Subarray with highest sum: 6 ,begins at: 4 and ends at 1"
   ]
  },
  {
   "cell_type": "code",
   "execution_count": 9,
   "metadata": {},
   "outputs": [
    {
     "data": {
      "text/plain": [
       "' Subarray with highest sum: 6 ,begins at: 4 and ends at 1'"
      ]
     },
     "execution_count": 9,
     "metadata": {},
     "output_type": "execute_result"
    }
   ],
   "source": [
    "def contiguous_subarrays(lst):\n",
    "    subarrays = []\n",
    "    highest_subarrays = float(0)\n",
    "    start = 0\n",
    "    end = 0\n",
    "    #create all posssible subarrays\n",
    "    for i in range(len(lst)):\n",
    "        for j in range(i+1, len(lst)+1):\n",
    "            subarrays.append(lst[i:j])\n",
    "    #check the totals of each subarray abnd pick the highest one\n",
    "    for j in range(len(subarrays)):\n",
    "        subtotal = sum(subarrays[j])\n",
    "        if subtotal > highest_subarrays:\n",
    "            highest_subarrays = subtotal\n",
    "            start = subarrays[j][0]\n",
    "            end = subarrays[j][-1]\n",
    "        else:\n",
    "            highest_subarrays = highest_subarrays\n",
    "            start=start\n",
    "            end = end\n",
    "    return f' Subarray with highest sum: {highest_subarrays} ,begins at: {start} and ends at {end}'\n",
    "list = [-2,1,-3,4,-1,2,1,-5,4]\n",
    "contiguous_subarrays(list)"
   ]
  }
 ],
 "metadata": {
  "kernelspec": {
   "display_name": "Python 3.9.7 ('base')",
   "language": "python",
   "name": "python3"
  },
  "language_info": {
   "codemirror_mode": {
    "name": "ipython",
    "version": 3
   },
   "file_extension": ".py",
   "mimetype": "text/x-python",
   "name": "python",
   "nbconvert_exporter": "python",
   "pygments_lexer": "ipython3",
   "version": "3.10.2"
  },
  "orig_nbformat": 4,
  "vscode": {
   "interpreter": {
    "hash": "7a4207280acc1d704d1921770e8d2f8a0b4ad0f7d0dfea86f77d81a3da8ddd6d"
   }
  }
 },
 "nbformat": 4,
 "nbformat_minor": 2
}
